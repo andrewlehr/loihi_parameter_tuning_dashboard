{
 "cells": [
  {
   "cell_type": "markdown",
   "metadata": {},
   "source": [
    "## Loihi Parameter Tuning Dashboard"
   ]
  },
  {
   "cell_type": "markdown",
   "metadata": {},
   "source": [
    "This tool lets you change some of the main parameters on Loihi via an interactive dashboard. It is built on top of the Brian2Loihi Emulator (https://github.com/sagacitysite/brian2_loihi). Each time a parameter changes, a simulation is run and the plots are updated."
   ]
  },
  {
   "cell_type": "markdown",
   "metadata": {},
   "source": [
    "### Imports"
   ]
  },
  {
   "cell_type": "code",
   "execution_count": 1,
   "metadata": {},
   "outputs": [],
   "source": [
    "import math\n",
    "import numpy as np\n",
    "import matplotlib.pyplot as plt\n",
    "import ipywidgets as widgets\n",
    "from brian2 import *\n",
    "prefs.codegen.target = 'numpy'  # use the Python fallback\n",
    "from brian2_loihi import *"
   ]
  },
  {
   "cell_type": "markdown",
   "metadata": {},
   "source": [
    "### Parameters"
   ]
  },
  {
   "cell_type": "code",
   "execution_count": 2,
   "metadata": {},
   "outputs": [],
   "source": [
    "# INITIAL PARAMETERS\n",
    "# The sliders are initially set to these values and can then be changed by the user\n",
    "runtime_0 = 100               # number of timesteps to run simulation\n",
    "ref_time_0 = 2                # refractory period\n",
    "threshold_mantissa_0 = 400    # spike threshold mantissa (threshold = mantissa * 2^6)\n",
    "decay_v_0 = 1024              # voltage decay\n",
    "decay_I_0 = 1024              # synaptic input decay\n",
    "weight_mantissa_0 = 128       # weight mantissa\n",
    "weight_exponent_0 = 0         # weight exponent\n",
    "n_bits_0 = 8                  # number of bits used to store weight mantissa"
   ]
  },
  {
   "cell_type": "markdown",
   "metadata": {},
   "source": [
    "### Create design tool"
   ]
  },
  {
   "cell_type": "code",
   "execution_count": 3,
   "metadata": {},
   "outputs": [],
   "source": [
    "def design_tool(runtime = widgets.IntSlider(min=1, max=200, step=1, value=runtime_0, continuous_update=False, style={'description_width': 'initial'}),\n",
    "                decay_v = widgets.IntSlider(min=0, max=4096, step=1, value=decay_v_0, continuous_update=False, style={'description_width': 'initial'}),\n",
    "                decay_I = widgets.IntSlider(min=0, max=4096, step=1, value=decay_I_0, continuous_update=False, style={'description_width': 'initial'}),\n",
    "                weight_mantissa = widgets.IntSlider(min=0, max=255, step=1, value=weight_mantissa_0, continuous_update=False, style={'description_width': 'initial'}),\n",
    "                weight_exponent = widgets.IntSlider(min=-8, max=7, step=1, value=weight_exponent_0, continuous_update=False, style={'description_width': 'initial'}),\n",
    "                n_bits = widgets.Dropdown(options=[1,2,3,4,5,6,8], value=n_bits_0, description='numWeightBits', disabled=False, style={'description_width': 'initial'}),\n",
    "                threshold_mantissa = widgets.IntSlider(min=0, max=131071, step=1, value=threshold_mantissa_0, continuous_update=False, style={'description_width': 'initial'}),\n",
    "                ref_time = widgets.IntSlider(min=0, max=10, step=1, value=ref_time_0, continuous_update=False, style={'description_width': 'initial'}),\n",
    "                scale = widgets.Dropdown(options=['linear', 'log'], value='linear', description='scale', disabled=False, style={'description_width': 'initial'})):\n",
    "\n",
    "\n",
    "    # FUTURE ADDITIONS\n",
    "    # sign mode\n",
    "    is_mixed = 0 # for now only excitatory weight\n",
    "\n",
    "    # GENERATE NETWORK FROM SLIDER VALUES -------------------------------\n",
    "\n",
    "    # INPUT\n",
    "    _input = LoihiSpikeGeneratorGroup(1,\n",
    "                                      indices=[0],\n",
    "                                      times=[1])\n",
    "\n",
    "    # NEURON\n",
    "    neuron = LoihiNeuronGroup(N=1,\n",
    "                              refractory=ref_time,\n",
    "                              threshold_v_mant=threshold_mantissa,\n",
    "                              decay_v=decay_v,\n",
    "                              decay_I=decay_I)\n",
    "    # SYNAPSE\n",
    "    synapse = LoihiSynapses(_input,\n",
    "                            neuron,\n",
    "                            w_exp=weight_exponent,\n",
    "                            sign_mode=synapse_sign_mode.EXCITATORY,\n",
    "                            num_weight_bits=n_bits)\n",
    "    synapse.connect()\n",
    "    synapse.w = weight_mantissa\n",
    "\n",
    "    # MONITORS\n",
    "    state_mon_v = LoihiStateMonitor(neuron, 'v')\n",
    "    state_mon_I = LoihiStateMonitor(neuron, 'I')\n",
    "    spike_mon = LoihiSpikeMonitor(neuron)\n",
    "\n",
    "    # CREATE AND STORE NETWORK\n",
    "    net = LoihiNetwork(neuron,\n",
    "                       _input,\n",
    "                       synapse,\n",
    "                       state_mon_I,\n",
    "                       state_mon_v,\n",
    "                       spike_mon)\n",
    "\n",
    "    # RUN SIMULATION ----------------------------------------------------\n",
    "    net.run(runtime)\n",
    "\n",
    "    # GET DATA ----------------------------------------------------------\n",
    "\n",
    "    # synaptic input\n",
    "    times = state_mon_I.t / ms\n",
    "    synaptic_input = state_mon_I.I[0]\n",
    "    max_synaptic_input = np.max(synaptic_input)\n",
    "    total_current = np.sum(synaptic_input).round(2)\n",
    "\n",
    "    # voltage\n",
    "    voltage = state_mon_v.v[0]\n",
    "\n",
    "    # threshold\n",
    "    threshold = threshold_mantissa * 2**6\n",
    "\n",
    "    # compute values for table\n",
    "    if not list(spike_mon.t):\n",
    "        max_voltage = np.max(state_mon_v.v).round(2)\n",
    "        if max_voltage > 0:\n",
    "            n_inputs_to_spike = (threshold/max_voltage).round(2)\n",
    "        else:\n",
    "            n_inputs_to_spike = \"inf\"\n",
    "        perc_thresh = (max_voltage/threshold).round(2)\n",
    "        n_spikes = 0\n",
    "        firing_rate = 0\n",
    "    else:\n",
    "        max_voltage = threshold\n",
    "        n_inputs_to_spike = 1\n",
    "        perc_thresh = 1\n",
    "        n_spikes = len(spike_mon.t)\n",
    "        firing_rate = np.round(1000/runtime * n_spikes, 2)\n",
    "\n",
    "    # compute possible weights\n",
    "    numLsbBits = 8 - n_bits - is_mixed\n",
    "    min_possible_weight_mant = 0\n",
    "    max_possible_weight_mant = 255\n",
    "    possible_weight_mantissas = np.arange(min_possible_weight_mant,\n",
    "                                          max_possible_weight_mant + 1)\n",
    "\n",
    "    # Shift weight mantissa\n",
    "    w_shifted = np.floor((possible_weight_mantissas / 2**numLsbBits)).astype(int) * 2**numLsbBits\n",
    "    # Scale weight with weight exponent\n",
    "    w_scaled = w_shifted * 2 **(6.0+weight_exponent)\n",
    "    # Shift scaled weight\n",
    "    w_scaled_shifted = (w_scaled / 2**6).astype(int) * 2**6\n",
    "    # Apply 21 bit limit\n",
    "    w_values = np.clip(w_scaled_shifted, -2097088, 2097088)\n",
    "\n",
    "    # PLOT ----------------------------------------------------------------\n",
    "    fig, ax = plt.subplots(2, 2,\n",
    "                           gridspec_kw={\n",
    "                               'width_ratios': [2, 1],\n",
    "                               'height_ratios': [1, 1]},\n",
    "                           figsize=(15,7))\n",
    "\n",
    "    # SYNAPTIC INPUT\n",
    "    ax[0][0].set_yscale(scale)\n",
    "    ax[0][0].plot(times, synaptic_input, color=\"black\")\n",
    "    ax[0][0].set_ylim(0.001, 1.1*max_synaptic_input)\n",
    "    ax[0][0].set_ylabel('Synaptic input (I)')\n",
    "\n",
    "    # VOLTAGE\n",
    "    ax[1][0].set_yscale(scale)\n",
    "    ax[1][0].plot(times, voltage, color=\"black\")\n",
    "    ax[1][0].set_ylim(0.001,1.1*threshold)\n",
    "    ax[1][0].set_xlabel('Time step')\n",
    "    ax[1][0].set_ylabel('Voltage (v)')\n",
    "    h_thr = ax[1][0].axhline(y=threshold, linewidth=1, ls='--', color='gray')\n",
    "\n",
    "    for t in spike_mon.t:\n",
    "        h_spk = ax[1][0].axvline(t, ls='--', color='firebrick', lw=2)\n",
    "\n",
    "    if not list(spike_mon.t):\n",
    "        ax[1][0].legend([h_thr], ['Threshold'], loc='upper right', facecolor='white', framealpha=1)\n",
    "    else:\n",
    "        ax[1][0].legend([h_thr, h_spk], ['Threshold', 'Spike'], loc='upper right', facecolor='white', framealpha=1)\n",
    "\n",
    "\n",
    "    # TABLE\n",
    "    table_data = np.array([max_voltage, perc_thresh, n_inputs_to_spike, total_current, n_spikes, firing_rate]).reshape(6,1)\n",
    "    rowlabel=(\"max v\", \"max v / v_th\", \"num. inputs to v_th\", \"total synaptic input\", \"num. spikes\", 'num. spikes / sec')\n",
    "    collabel=(\"Statistics\", \"\")\n",
    "    table_1 = ax[0][1].table(cellText=table_data,\n",
    "                            colLabels=collabel,\n",
    "                            rowLabels=rowlabel,\n",
    "                            loc='center right')\n",
    "    table_1.auto_set_font_size(False)\n",
    "    table_1.set_fontsize(14)\n",
    "    table_1.scale(0.5, 2)\n",
    "    table_1.auto_set_column_width(col=list(range(len(collabel))))\n",
    "    ax[0][1].axis('tight')\n",
    "    ax[0][1].axis('off')\n",
    "\n",
    "    # WEIGHTS\n",
    "    ax[1][1].axvline(weight_mantissa,\n",
    "                     ymin=0,\n",
    "                     ymax= w_values[weight_mantissa]/np.max(w_values) if np.max(w_values) > 0 else 1,\n",
    "                     linestyle='--', linewidth=0.5, color='gray')\n",
    "    ax[1][1].axhline(w_values[weight_mantissa],\n",
    "                     xmin=0,\n",
    "                     xmax=weight_mantissa/max_possible_weight_mant,\n",
    "                     linestyle='--', linewidth=0.5, color='gray')\n",
    "    ax[1][1].plot(w_values, 'k', Marker='.', MarkerSize=0.01)\n",
    "    h_weight = ax[1][1].scatter(weight_mantissa, w_values[weight_mantissa], color='k')\n",
    "    ax[1][1].set_ylim(0 if np.max(w_values) > 0 else -0.1, np.max(w_values) if np.max(w_values) > 0 else 0.1)\n",
    "    ax[1][1].set_xlim(min_possible_weight_mant, max_possible_weight_mant)\n",
    "    ax[1][1].set_xlabel('Weight Mantissa ($w_{mant}$)')\n",
    "    ax[1][1].set_ylabel('Actual Weight ($w_{mant} \\cdot 2^{6 + w_{exp}}$)')\n",
    "    ax[1][1].legend([h_weight], ['Current weight'], loc='lower right', facecolor='white', framealpha=1)\n"
   ]
  },
  {
   "cell_type": "markdown",
   "metadata": {},
   "source": [
    "### Launch"
   ]
  },
  {
   "cell_type": "code",
   "execution_count": 4,
   "metadata": {},
   "outputs": [
    {
     "data": {
      "application/vnd.jupyter.widget-view+json": {
       "model_id": "21efc2aa07ce49deb1cc980eb9faf326",
       "version_major": 2,
       "version_minor": 0
      },
      "text/plain": [
       "interactive(children=(IntSlider(value=100, continuous_update=False, description='runtime', max=200, min=1, sty…"
      ]
     },
     "metadata": {},
     "output_type": "display_data"
    }
   ],
   "source": [
    "wgt = widgets.interact(design_tool)"
   ]
  },
  {
   "cell_type": "code",
   "execution_count": null,
   "metadata": {},
   "outputs": [],
   "source": []
  }
 ],
 "metadata": {
  "kernelspec": {
   "display_name": "Python 3",
   "language": "python",
   "name": "python3"
  },
  "language_info": {
   "codemirror_mode": {
    "name": "ipython",
    "version": 3
   },
   "file_extension": ".py",
   "mimetype": "text/x-python",
   "name": "python",
   "nbconvert_exporter": "python",
   "pygments_lexer": "ipython3",
   "version": "3.6.9"
  }
 },
 "nbformat": 4,
 "nbformat_minor": 1
}
